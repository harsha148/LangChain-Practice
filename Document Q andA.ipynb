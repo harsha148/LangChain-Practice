{
 "cells": [
  {
   "cell_type": "code",
   "execution_count": 9,
   "id": "623d6cc6-44d4-45f9-b279-f7ecc737a552",
   "metadata": {},
   "outputs": [],
   "source": [
    "api_key = ''"
   ]
  },
  {
   "cell_type": "code",
   "execution_count": 4,
   "id": "cc77544f-73c0-486d-8e32-7bcd15c02109",
   "metadata": {},
   "outputs": [],
   "source": [
    "from langchain_openai import ChatOpenAI\n",
    "from langchain.chains import RetrievalQA\n",
    "from langchain_community.vectorstores import DocArrayInMemorySearch\n",
    "from langchain.embeddings import OpenAIEmbeddings\n",
    "from langchain.indexes import VectorstoreIndexCreator\n",
    "from langchain_community.document_loaders import TextLoader"
   ]
  },
  {
   "cell_type": "code",
   "execution_count": 16,
   "id": "bc176629-b5a9-4b0f-a58e-5961423590fb",
   "metadata": {},
   "outputs": [],
   "source": [
    "from langchain_community.document_loaders import PyPDFLoader\n",
    "llm = ChatOpenAI(model = 'gpt-3.5-turbo', api_key= api_key, temperature= 0.0)\n",
    "loader = PyPDFLoader(\"C:/Users/harsh/OneDrive/Desktop/Rutgers/Summer/txtbook.pdf\")\n",
    "pages = loader.load_and_split()"
   ]
  },
  {
   "cell_type": "code",
   "execution_count": 10,
   "id": "c6ee3bb3-17fb-4068-8110-ab1529b995d4",
   "metadata": {},
   "outputs": [],
   "source": [
    "embeddings = OpenAIEmbeddings(api_key = api_key)"
   ]
  },
  {
   "cell_type": "code",
   "execution_count": 11,
   "id": "72c6e480-ef9f-4e93-92d7-0aca9b2771c8",
   "metadata": {},
   "outputs": [],
   "source": [
    "embed = embeddings.embed_query('What is simple linear regression?')"
   ]
  },
  {
   "cell_type": "code",
   "execution_count": 14,
   "id": "241ef78c-e03d-4515-b81e-c8d923add4f0",
   "metadata": {},
   "outputs": [],
   "source": [
    "db = DocArrayInMemorySearch.from_documents(pages, embeddings)\n",
    "retriever = db.as_retriever()"
   ]
  },
  {
   "cell_type": "code",
   "execution_count": 17,
   "id": "d990e783-7890-4f07-a9ea-cfe3d0b91c20",
   "metadata": {},
   "outputs": [],
   "source": [
    "qa_bot = RetrievalQA.from_chain_type(llm = llm, retriever=retriever, chain_type='stuff', verbose = True)"
   ]
  },
  {
   "cell_type": "code",
   "execution_count": 19,
   "id": "db3daa89-6f1e-4c1d-8c01-293ee80ed641",
   "metadata": {},
   "outputs": [
    {
     "name": "stdout",
     "output_type": "stream",
     "text": [
      "\n",
      "\n",
      "\u001b[1m> Entering new RetrievalQA chain...\u001b[0m\n",
      "\n",
      "\u001b[1m> Finished chain.\u001b[0m\n"
     ]
    },
    {
     "data": {
      "text/plain": [
       "{'query': 'What is simple linear regression?',\n",
       " 'result': 'Simple linear regression is a statistical model that examines the relationship between two variables: a single regressor (independent variable) and a response (dependent variable) that is assumed to be a straight line. The model includes an intercept (β0), a slope (β1), and a random error component (ε). The errors are assumed to have a mean of zero and an unknown variance. The regressor is controlled by the data analyst and measured with negligible error, while the response is a random variable with a probability distribution at each possible value of the regressor.'}"
      ]
     },
     "execution_count": 19,
     "metadata": {},
     "output_type": "execute_result"
    }
   ],
   "source": [
    "qa_bot.invoke('What is simple linear regression?')"
   ]
  },
  {
   "cell_type": "code",
   "execution_count": 21,
   "id": "e2820bc2-53b6-4e72-b60d-f5eeeefebcb9",
   "metadata": {},
   "outputs": [
    {
     "data": {
      "text/plain": [
       "'Multiple linear regression is a statistical method used to analyze the relationship between a dependent variable and two or more independent variables. In this type of regression, the dependent variable is modeled as a linear combination of the independent variables, allowing for the examination of how each independent variable contributes to the variation in the dependent variable. The regression model involves estimating coefficients for each independent variable to determine their impact on the dependent variable.'"
      ]
     },
     "execution_count": 21,
     "metadata": {},
     "output_type": "execute_result"
    }
   ],
   "source": [
    "index = VectorstoreIndexCreator(\n",
    "    vectorstore_cls=DocArrayInMemorySearch,\n",
    "    embedding=embeddings,\n",
    ").from_loaders([loader])\n",
    "index.query('What is multiple linear regression?', llm=llm)"
   ]
  },
  {
   "cell_type": "code",
   "execution_count": null,
   "id": "34782c8b-c2e2-44e7-ba75-cf38c5e6b38f",
   "metadata": {},
   "outputs": [],
   "source": []
  }
 ],
 "metadata": {
  "kernelspec": {
   "display_name": "Python 3 (ipykernel)",
   "language": "python",
   "name": "python3"
  },
  "language_info": {
   "codemirror_mode": {
    "name": "ipython",
    "version": 3
   },
   "file_extension": ".py",
   "mimetype": "text/x-python",
   "name": "python",
   "nbconvert_exporter": "python",
   "pygments_lexer": "ipython3",
   "version": "3.10.14"
  }
 },
 "nbformat": 4,
 "nbformat_minor": 5
}
