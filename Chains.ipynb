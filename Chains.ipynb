{
 "cells": [
  {
   "cell_type": "code",
   "execution_count": 3,
   "id": "90ad8258-6d58-4afb-a146-4136d0f36870",
   "metadata": {},
   "outputs": [],
   "source": [
    "from langchain_openai import ChatOpenAI\n",
    "from langchain.prompts import ChatPromptTemplate\n",
    "from langchain.chains import LLMChain"
   ]
  },
  {
   "cell_type": "code",
   "execution_count": 20,
   "id": "f353c018-02be-4147-b386-ce06f9c75ad7",
   "metadata": {},
   "outputs": [],
   "source": [
    "api_key = ''"
   ]
  },
  {
   "cell_type": "code",
   "execution_count": 28,
   "id": "40ccaa6c-5c02-4c79-bf3d-f0012b2e3e8f",
   "metadata": {},
   "outputs": [],
   "source": [
    "llm = ChatOpenAI(model = 'gpt-3.5-turbo', api_key = api_key, temperature = 0.9)\n",
    "prompt = ChatPromptTemplate.from_template('Can me a creative name for a startup whose product is {product}')\n",
    "chain = LLMChain(llm = llm, prompt= prompt)"
   ]
  },
  {
   "cell_type": "code",
   "execution_count": 32,
   "id": "2fc36335-d148-438d-9e5e-a49552ef83ae",
   "metadata": {},
   "outputs": [
    {
     "data": {
      "text/plain": [
       "{'product': 'AI chat bot', 'text': 'MindSpeak Technologies'}"
      ]
     },
     "execution_count": 32,
     "metadata": {},
     "output_type": "execute_result"
    }
   ],
   "source": [
    "chain.invoke('AI chat bot')"
   ]
  },
  {
   "cell_type": "code",
   "execution_count": 29,
   "id": "26e67320-c399-4510-aa6b-495ba713f67d",
   "metadata": {},
   "outputs": [],
   "source": [
    "prompt1 = ChatPromptTemplate.from_template('Give me a short summary of a company with name {company_name}')\n",
    "chain1 = LLMChain(llm = llm, prompt=prompt1)"
   ]
  },
  {
   "cell_type": "code",
   "execution_count": 33,
   "id": "33e2312b-a9d2-485b-86e5-46d42b911609",
   "metadata": {},
   "outputs": [],
   "source": [
    "from langchain.chains import SimpleSequentialChain\n",
    "simpleSeqChain = SimpleSequentialChain(chains = [chain, chain1],verbose = True)"
   ]
  },
  {
   "cell_type": "code",
   "execution_count": 34,
   "id": "1745573e-528f-4275-97fb-65a2ef22efd5",
   "metadata": {},
   "outputs": [
    {
     "name": "stdout",
     "output_type": "stream",
     "text": [
      "\n",
      "\n",
      "\u001b[1m> Entering new SimpleSequentialChain chain...\u001b[0m\n",
      "\u001b[36;1m\u001b[1;3m\"Heartstrings Connect\"\u001b[0m\n",
      "\u001b[33;1m\u001b[1;3mHeartstrings Connect is a social networking platform that focuses on connecting people through shared interests, passions, and causes. Users can create profiles, join groups, and participate in discussions and events to foster meaningful connections and relationships. The company aims to create a supportive and inclusive online community where individuals can express themselves authentically and build genuine connections with others.\u001b[0m\n",
      "\n",
      "\u001b[1m> Finished chain.\u001b[0m\n"
     ]
    },
    {
     "data": {
      "text/plain": [
       "'Heartstrings Connect is a social networking platform that focuses on connecting people through shared interests, passions, and causes. Users can create profiles, join groups, and participate in discussions and events to foster meaningful connections and relationships. The company aims to create a supportive and inclusive online community where individuals can express themselves authentically and build genuine connections with others.'"
      ]
     },
     "execution_count": 34,
     "metadata": {},
     "output_type": "execute_result"
    }
   ],
   "source": [
    "simpleSeqChain.run('Online Dating Website')"
   ]
  },
  {
   "cell_type": "code",
   "execution_count": 36,
   "id": "bb2b4d1a-3a0c-4505-a1f1-3a894ab22530",
   "metadata": {},
   "outputs": [],
   "source": [
    "from langchain.chains import SequentialChain\n",
    "seq_prompt1 = ChatPromptTemplate.from_template('Give me the innovative idea for a startup name, whose product is {product}')\n",
    "seq_chain1 = LLMChain(llm = llm, prompt = seq_prompt1, output_key = 'company_name')\n",
    "seq_prompt2 = ChatPromptTemplate.from_template('Give me a short summary of the work of a company whose name is {company_name} and product is {product}.')\n",
    "seq_chain2 = LLMChain(llm = llm, prompt = seq_prompt2, output_key = 'summary')\n",
    "seq_prompt3 = ChatPromptTemplate.from_template('Give me a tagline for a company whose name is {company_name} and product is {product}.')\n",
    "seq_chain3 = LLMChain(llm = llm, prompt = seq_prompt3, output_key = 'tagline')\n",
    "seq_chain = SequentialChain(chains = [seq_chain1, seq_chain2, seq_chain3], input_variables = ['product'], output_variables = ['company_name','summary','tagline'])\n"
   ]
  },
  {
   "cell_type": "code",
   "execution_count": 38,
   "id": "590b149c-78e8-4eea-87b3-ef13b3f2ce6c",
   "metadata": {},
   "outputs": [
    {
     "data": {
      "text/plain": [
       "{'product': 'Education Website',\n",
       " 'company_name': '\"LearnLabs\"',\n",
       " 'summary': 'LearnLabs is an innovative company that specializes in providing high-quality educational content through their online education website. Their platform offers a wide range of courses and resources for students of all ages, making learning accessible and engaging. With a team of experienced educators and technology experts, LearnLabs is dedicated to helping individuals reach their full potential through the power of online learning.',\n",
       " 'tagline': '\"Unlocking knowledge with LearnLabs: Your online gateway to learning success.\"'}"
      ]
     },
     "execution_count": 38,
     "metadata": {},
     "output_type": "execute_result"
    }
   ],
   "source": [
    "seq_chain.invoke('Education Website')"
   ]
  },
  {
   "cell_type": "code",
   "execution_count": 39,
   "id": "9d9a5962-c278-455e-b22f-39fd5048cf3a",
   "metadata": {},
   "outputs": [],
   "source": [
    "physics_template = \"\"\"You are a very smart physics professor. \\\n",
    "You are great at answering questions about physics in a concise\\\n",
    "and easy to understand manner. \\\n",
    "When you don't know the answer to a question you admit\\\n",
    "that you don't know.\n",
    "\n",
    "Here is a question:\n",
    "{input}\"\"\"\n",
    "\n",
    "\n",
    "math_template = \"\"\"You are a very good mathematician. \\\n",
    "You are great at answering math questions. \\\n",
    "You are so good because you are able to break down \\\n",
    "hard problems into their component parts, \n",
    "answer the component parts, and then put them together\\\n",
    "to answer the broader question.\n",
    "\n",
    "Here is a question:\n",
    "{input}\"\"\"\n",
    "\n",
    "history_template = \"\"\"You are a very good historian. \\\n",
    "You have an excellent knowledge of and understanding of people,\\\n",
    "events and contexts from a range of historical periods. \\\n",
    "You have the ability to think, reflect, debate, discuss and \\\n",
    "evaluate the past. You have a respect for historical evidence\\\n",
    "and the ability to make use of it to support your explanations \\\n",
    "and judgements.\n",
    "\n",
    "Here is a question:\n",
    "{input}\"\"\"\n",
    "\n",
    "\n",
    "computerscience_template = \"\"\" You are a successful computer scientist.\\\n",
    "You have a passion for creativity, collaboration,\\\n",
    "forward-thinking, confidence, strong problem-solving capabilities,\\\n",
    "understanding of theories and algorithms, and excellent communication \\\n",
    "skills. You are great at answering coding questions. \\\n",
    "You are so good because you know how to solve a problem by \\\n",
    "describing the solution in imperative steps \\\n",
    "that a machine can easily interpret and you know how to \\\n",
    "choose a solution that has a good balance between \\\n",
    "time complexity and space complexity. \n",
    "\n",
    "Here is a question:\n",
    "{input}\"\"\""
   ]
  },
  {
   "cell_type": "code",
   "execution_count": 40,
   "id": "104bc5a3-39d6-4c07-a46a-97d9b2ad69de",
   "metadata": {},
   "outputs": [],
   "source": [
    "prompt_infos = [\n",
    "    {\n",
    "        \"name\": \"physics\", \n",
    "        \"description\": \"Good for answering questions about physics\", \n",
    "        \"prompt_template\": physics_template\n",
    "    },\n",
    "    {\n",
    "        \"name\": \"math\", \n",
    "        \"description\": \"Good for answering math questions\", \n",
    "        \"prompt_template\": math_template\n",
    "    },\n",
    "    {\n",
    "        \"name\": \"History\", \n",
    "        \"description\": \"Good for answering history questions\", \n",
    "        \"prompt_template\": history_template\n",
    "    },\n",
    "    {\n",
    "        \"name\": \"computer science\", \n",
    "        \"description\": \"Good for answering computer science questions\", \n",
    "        \"prompt_template\": computerscience_template\n",
    "    }\n",
    "]"
   ]
  },
  {
   "cell_type": "code",
   "execution_count": 41,
   "id": "826e652d-60f4-4bc1-b7b0-a481d60c7f4f",
   "metadata": {},
   "outputs": [],
   "source": [
    "from langchain.chains.router import MultiPromptChain\n",
    "from langchain.chains.router.llm_router import LLMRouterChain,RouterOutputParser\n",
    "from langchain.prompts import PromptTemplate"
   ]
  },
  {
   "cell_type": "code",
   "execution_count": 42,
   "id": "3b2867ab-058d-4a97-80d2-ce5d09dc4c19",
   "metadata": {},
   "outputs": [],
   "source": [
    "llm = ChatOpenAI(model = 'gpt-3.5-turbo', temperature = 0.0, api_key = api_key)"
   ]
  },
  {
   "cell_type": "code",
   "execution_count": 44,
   "id": "3fcec9ec-2800-4b0a-ac63-ebcd6db1ea42",
   "metadata": {},
   "outputs": [],
   "source": [
    "destination_chains = {}\n",
    "for p_info in prompt_infos:\n",
    "    prompt = ChatPromptTemplate.from_template(p_info['prompt_template'])\n",
    "    llm_chain = LLMChain(llm = llm, prompt = prompt)\n",
    "    destination_chains[p_info['name']] = llm_chain\n",
    "destinations = [f\"{p['name']}: {p['description']}\" for p in prompt_infos]\n",
    "destinations_str = \"\\n\".join(destinations)"
   ]
  },
  {
   "cell_type": "code",
   "execution_count": 45,
   "id": "542e1e78-4a5e-4b1d-ad23-c2be1999bfa4",
   "metadata": {},
   "outputs": [],
   "source": [
    "default_prompt = ChatPromptTemplate.from_template(\"{input}\")\n",
    "default_chain = LLMChain(llm=llm, prompt=default_prompt)"
   ]
  },
  {
   "cell_type": "code",
   "execution_count": 46,
   "id": "c0ad11f3-1f52-4f25-b3b6-a99967639356",
   "metadata": {},
   "outputs": [],
   "source": [
    "MULTI_PROMPT_ROUTER_TEMPLATE = \"\"\"Given a raw text input to a \\\n",
    "language model select the model prompt best suited for the input. \\\n",
    "You will be given the names of the available prompts and a \\\n",
    "description of what the prompt is best suited for. \\\n",
    "You may also revise the original input if you think that revising\\\n",
    "it will ultimately lead to a better response from the language model.\n",
    "\n",
    "<< FORMATTING >>\n",
    "Return a markdown code snippet with a JSON object formatted to look like:\n",
    "```json\n",
    "{{{{\n",
    "    \"destination\": string \\ name of the prompt to use or \"DEFAULT\"\n",
    "    \"next_inputs\": string \\ a potentially modified version of the original input\n",
    "}}}}\n",
    "```\n",
    "\n",
    "REMEMBER: \"destination\" MUST be one of the candidate prompt \\\n",
    "names specified below OR it can be \"DEFAULT\" if the input is not\\\n",
    "well suited for any of the candidate prompts.\n",
    "REMEMBER: \"next_inputs\" can just be the original input \\\n",
    "if you don't think any modifications are needed.\n",
    "\n",
    "<< CANDIDATE PROMPTS >>\n",
    "{destinations}\n",
    "\n",
    "<< INPUT >>\n",
    "{{input}}\n",
    "\n",
    "<< OUTPUT (remember to include the ```json)>>\"\"\""
   ]
  },
  {
   "cell_type": "code",
   "execution_count": 47,
   "id": "f3be3827-ffd0-494c-810b-f38baa5f58a7",
   "metadata": {},
   "outputs": [],
   "source": [
    "router_template = MULTI_PROMPT_ROUTER_TEMPLATE.format(\n",
    "    destinations=destinations_str\n",
    ")\n",
    "router_prompt = PromptTemplate(\n",
    "    template=router_template,\n",
    "    input_variables=[\"input\"],\n",
    "    output_parser=RouterOutputParser(),\n",
    ")\n",
    "\n",
    "router_chain = LLMRouterChain.from_llm(llm, router_prompt)"
   ]
  },
  {
   "cell_type": "code",
   "execution_count": 48,
   "id": "adf8c0ff-248e-426b-a9db-480d7799a70d",
   "metadata": {},
   "outputs": [],
   "source": [
    "chain = MultiPromptChain(router_chain=router_chain, \n",
    "                         destination_chains=destination_chains, \n",
    "                         default_chain=default_chain, verbose=True\n",
    "                        )"
   ]
  },
  {
   "cell_type": "code",
   "execution_count": 49,
   "id": "317e0421-cd11-4d15-80d5-c617e69a80e2",
   "metadata": {
    "scrolled": true
   },
   "outputs": [
    {
     "name": "stdout",
     "output_type": "stream",
     "text": [
      "\n",
      "\n",
      "\u001b[1m> Entering new MultiPromptChain chain...\u001b[0m\n",
      "math: {'input': 'What is 1+1?'}\n",
      "\u001b[1m> Finished chain.\u001b[0m\n"
     ]
    },
    {
     "data": {
      "text/plain": [
       "{'input': 'What is 1+1?', 'text': '1+1 equals 2.'}"
      ]
     },
     "execution_count": 49,
     "metadata": {},
     "output_type": "execute_result"
    }
   ],
   "source": [
    "chain.invoke('What is 1+1?')"
   ]
  },
  {
   "cell_type": "code",
   "execution_count": 50,
   "id": "6c0b301a-34aa-4121-9cfc-c671dda7b1b0",
   "metadata": {},
   "outputs": [
    {
     "name": "stdout",
     "output_type": "stream",
     "text": [
      "\n",
      "\n",
      "\u001b[1m> Entering new MultiPromptChain chain...\u001b[0m\n",
      "physics: {'input': \"What is Newton's first law of motion?\"}\n",
      "\u001b[1m> Finished chain.\u001b[0m\n"
     ]
    },
    {
     "data": {
      "text/plain": [
       "{'input': \"What is Newton's first law of motion?\",\n",
       " 'text': \"Newton's first law of motion, also known as the law of inertia, states that an object at rest will stay at rest, and an object in motion will stay in motion with a constant velocity unless acted upon by an external force. In simpler terms, an object will not change its state of motion unless a force is applied to it.\"}"
      ]
     },
     "execution_count": 50,
     "metadata": {},
     "output_type": "execute_result"
    }
   ],
   "source": [
    "chain.invoke('What is Newtons first law of motion?')"
   ]
  },
  {
   "cell_type": "code",
   "execution_count": 51,
   "id": "b59996b8-d6c5-49ec-8d92-fc5d188efe02",
   "metadata": {},
   "outputs": [
    {
     "name": "stdout",
     "output_type": "stream",
     "text": [
      "\n",
      "\n",
      "\u001b[1m> Entering new MultiPromptChain chain...\u001b[0m\n",
      "None: {'input': 'What is the next movie of Brad Pitt?'}\n",
      "\u001b[1m> Finished chain.\u001b[0m\n"
     ]
    },
    {
     "data": {
      "text/plain": [
       "{'input': 'What is the next movie of Brad Pitt?',\n",
       " 'text': 'The next movie of Brad Pitt is \"Bullet Train,\" set to be released in 2022.'}"
      ]
     },
     "execution_count": 51,
     "metadata": {},
     "output_type": "execute_result"
    }
   ],
   "source": [
    "chain.invoke('What is the next movie of Brad Pitt?')"
   ]
  },
  {
   "cell_type": "code",
   "execution_count": null,
   "id": "581c7f09-9e83-402c-88ca-d6a0cb04e1d3",
   "metadata": {},
   "outputs": [],
   "source": []
  }
 ],
 "metadata": {
  "kernelspec": {
   "display_name": "Python 3 (ipykernel)",
   "language": "python",
   "name": "python3"
  },
  "language_info": {
   "codemirror_mode": {
    "name": "ipython",
    "version": 3
   },
   "file_extension": ".py",
   "mimetype": "text/x-python",
   "name": "python",
   "nbconvert_exporter": "python",
   "pygments_lexer": "ipython3",
   "version": "3.10.14"
  }
 },
 "nbformat": 4,
 "nbformat_minor": 5
}
