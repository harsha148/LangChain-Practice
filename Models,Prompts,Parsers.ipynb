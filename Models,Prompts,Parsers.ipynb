{
 "cells": [
  {
   "cell_type": "code",
   "execution_count": 13,
   "id": "f63d25c1-f21a-4989-9551-dca365c82832",
   "metadata": {},
   "outputs": [],
   "source": [
    "import openai"
   ]
  },
  {
   "cell_type": "code",
   "execution_count": 3,
   "id": "b9d304ea-87ae-4bc1-b7e9-53bbf04a9db8",
   "metadata": {},
   "outputs": [],
   "source": [
    "api_key = ''"
   ]
  },
  {
   "cell_type": "code",
   "execution_count": 19,
   "id": "d3ee5d01-4750-4e5e-8bf0-50cb217364e2",
   "metadata": {},
   "outputs": [],
   "source": [
    "import openai\n",
    "openai.api_key = api_key\n",
    "# client = OpenAI()\n",
    "\n",
    "def get_response(prompt:str):\n",
    "    completion = openai.chat.completions.create(\n",
    "        model=\"gpt-3.5-turbo\",\n",
    "        messages=[\n",
    "            {\"role\": \"user\", \"content\": prompt}\n",
    "            ]\n",
    "    )\n",
    "    return completion.choices[0].message\n"
   ]
  },
  {
   "cell_type": "code",
   "execution_count": 20,
   "id": "3176b172-fa36-402d-937f-c028850a8868",
   "metadata": {},
   "outputs": [
    {
     "data": {
      "text/plain": [
       "ChatCompletionMessage(content=\"I'm sorry to hear that you're feeling depressed. It's important to remember that you're not alone and that help is available. Have you tried talking to a therapist or counselor about how you're feeling? Additionally, practicing self-care activities such as exercise, meditation, and spending time with loved ones can also help improve your mood. Remember, it's okay to not be okay and seeking help is a brave step towards feeling better.\", role='assistant', function_call=None, tool_calls=None)"
      ]
     },
     "execution_count": 20,
     "metadata": {},
     "output_type": "execute_result"
    }
   ],
   "source": [
    "get_response('Hi I am depressed')"
   ]
  },
  {
   "cell_type": "code",
   "execution_count": 25,
   "id": "58f1baf7-4dec-4e22-bc42-aa16069a95bc",
   "metadata": {},
   "outputs": [
    {
     "data": {
      "text/plain": [
       "ChatCompletionMessage(content='```हिंदी लिपि```', role='assistant', function_call=None, tool_calls=None)"
      ]
     },
     "execution_count": 25,
     "metadata": {},
     "output_type": "execute_result"
    }
   ],
   "source": [
    "prompt = 'Translate the text that is delimited by triple backticks into Hindi ```తెలుగు లిపి```'\n",
    "get_response(prompt)"
   ]
  },
  {
   "cell_type": "code",
   "execution_count": 6,
   "id": "11a1af8f-6d7a-4ac0-894a-3ddbd351dec0",
   "metadata": {},
   "outputs": [],
   "source": [
    "from langchain_openai import ChatOpenAI\n",
    "\n",
    "chat = ChatOpenAI(model=\"gpt-3.5-turbo-0125\",api_key= api_key,temperature = 0.0)"
   ]
  },
  {
   "cell_type": "code",
   "execution_count": 7,
   "id": "21cfa99d-b53e-422f-8f90-08f8afef525f",
   "metadata": {},
   "outputs": [
    {
     "data": {
      "text/plain": [
       "ChatOpenAI(client=<openai.resources.chat.completions.Completions object at 0x0000024438378A30>, async_client=<openai.resources.chat.completions.AsyncCompletions object at 0x000002443837A140>, model_name='gpt-3.5-turbo-0125', temperature=0.0, openai_api_key=SecretStr('**********'), openai_proxy='')"
      ]
     },
     "execution_count": 7,
     "metadata": {},
     "output_type": "execute_result"
    }
   ],
   "source": [
    "chat"
   ]
  },
  {
   "cell_type": "code",
   "execution_count": 25,
   "id": "116669b6-1607-487a-a344-f9f87aad3bbe",
   "metadata": {},
   "outputs": [],
   "source": [
    "from langchain_core.prompts import ChatPromptTemplate\n",
    "chat_template = ChatPromptTemplate.from_messages(\n",
    "    [\n",
    "        (\"system\", \"You are a helpful AI bot. Your name is {name}.\"),\n",
    "        (\"human\", \"{input}\"),\n",
    "    ]\n",
    ")"
   ]
  },
  {
   "cell_type": "code",
   "execution_count": 26,
   "id": "d19e0161-410e-475b-89e5-2502b5711103",
   "metadata": {},
   "outputs": [],
   "source": [
    "prompt1 = chat_template.format_messages(name='Sita', input='Can you please help me with my Math homework. What the fraction 1/7 in decimals?')"
   ]
  },
  {
   "cell_type": "code",
   "execution_count": 27,
   "id": "5fe46aa7-0124-46de-b184-1a956a2ff0b7",
   "metadata": {},
   "outputs": [
    {
     "data": {
      "text/plain": [
       "[SystemMessage(content='You are a helpful AI bot. Your name is Sita.'),\n",
       " HumanMessage(content='Can you please help me with my Math homework. What the fraction 1/7 in decimals?')]"
      ]
     },
     "execution_count": 27,
     "metadata": {},
     "output_type": "execute_result"
    }
   ],
   "source": [
    "prompt1"
   ]
  },
  {
   "cell_type": "code",
   "execution_count": 28,
   "id": "69658f33-1af4-4666-8ca7-6b6d7ecfb080",
   "metadata": {},
   "outputs": [
    {
     "data": {
      "text/plain": [
       "AIMessage(content='Of course! To convert the fraction 1/7 into a decimal, you simply divide 1 by 7. \\n\\n1 ÷ 7 = 0.142857...\\n\\nSo, the fraction 1/7 in decimal form is approximately 0.142857.', response_metadata={'token_usage': {'completion_tokens': 56, 'prompt_tokens': 44, 'total_tokens': 100}, 'model_name': 'gpt-3.5-turbo-0125', 'system_fingerprint': None, 'finish_reason': 'stop', 'logprobs': None}, id='run-b300e69d-c011-48b9-a361-c9f76161db35-0', usage_metadata={'input_tokens': 44, 'output_tokens': 56, 'total_tokens': 100})"
      ]
     },
     "execution_count": 28,
     "metadata": {},
     "output_type": "execute_result"
    }
   ],
   "source": [
    "chat(prompt1)"
   ]
  },
  {
   "cell_type": "code",
   "execution_count": 29,
   "id": "5a8f7d2e-7afc-4ec3-9a92-123a0c607dee",
   "metadata": {},
   "outputs": [],
   "source": [
    "customer_review = \"\"\"\\\n",
    "This leaf blower is pretty amazing.  It has four settings:\\\n",
    "candle blower, gentle breeze, windy city, and tornado. \\\n",
    "It arrived in two days, just in time for my wife's \\\n",
    "anniversary present. \\\n",
    "I think my wife liked it so much she was speechless. \\\n",
    "So far I've been the only one using it, and I've been \\\n",
    "using it every other morning to clear the leaves on our lawn. \\\n",
    "It's slightly more expensive than the other leaf blowers \\\n",
    "out there, but I think it's worth it for the extra features.\n",
    "\"\"\"\n",
    "\n",
    "review_template = \"\"\"\\\n",
    "For the following text, extract the following information:\n",
    "\n",
    "gift: Was the item purchased as a gift for someone else? \\\n",
    "Answer True if yes, False if not or unknown.\n",
    "\n",
    "delivery_days: How many days did it take for the product \\\n",
    "to arrive? If this information is not found, output -1.\n",
    "\n",
    "price_value: Extract any sentences about the value or price,\\\n",
    "and output them as a comma separated Python list.\n",
    "\n",
    "Format the output as JSON with the following keys:\n",
    "gift\n",
    "delivery_days\n",
    "price_value\n",
    "\n",
    "text: {text}\n",
    "\"\"\""
   ]
  },
  {
   "cell_type": "code",
   "execution_count": 38,
   "id": "f3334113-8048-478b-8185-4169e650238a",
   "metadata": {},
   "outputs": [
    {
     "data": {
      "text/plain": [
       "ChatPromptTemplate(input_variables=['text'], messages=[HumanMessagePromptTemplate(prompt=PromptTemplate(input_variables=['text'], template='For the following text, extract the following information:\\n\\ngift: Was the item purchased as a gift for someone else? Answer True if yes, False if not or unknown.\\n\\ndelivery_days: How many days did it take for the product to arrive? If this information is not found, output -1.\\n\\nprice_value: Extract any sentences about the value or price,and output them as a comma separated Python list.\\n\\nFormat the output as JSON with the following keys:\\ngift\\ndelivery_days\\nprice_value\\n\\ntext: {text}\\n'))])"
      ]
     },
     "execution_count": 38,
     "metadata": {},
     "output_type": "execute_result"
    }
   ],
   "source": [
    "output_parser = ChatPromptTemplate.from_template(review_template)\n",
    "output_parser"
   ]
  },
  {
   "cell_type": "code",
   "execution_count": null,
   "id": "2b2906a5-204c-4949-b13b-59f1bb8c4503",
   "metadata": {},
   "outputs": [],
   "source": []
  },
  {
   "cell_type": "code",
   "execution_count": 40,
   "id": "88c5be27-008e-4d55-b258-4f4b376ba24c",
   "metadata": {},
   "outputs": [],
   "source": [
    "prompt2 = output_parser.format_messages(text=customer_review)"
   ]
  },
  {
   "cell_type": "code",
   "execution_count": 33,
   "id": "0f5187f9-fbd0-4815-b79d-8004a0fd944c",
   "metadata": {},
   "outputs": [
    {
     "data": {
      "text/plain": [
       "AIMessage(content='{\\n    \"gift\": true,\\n    \"delivery_days\": 2,\\n    \"price_value\": [\"It\\'s slightly more expensive than the other leaf blowers out there\"]\\n}', response_metadata={'token_usage': {'completion_tokens': 36, 'prompt_tokens': 218, 'total_tokens': 254}, 'model_name': 'gpt-3.5-turbo-0125', 'system_fingerprint': None, 'finish_reason': 'stop', 'logprobs': None}, id='run-ec5001eb-9d3e-4cf3-abf1-6c9a9ddcb61a-0', usage_metadata={'input_tokens': 218, 'output_tokens': 36, 'total_tokens': 254})"
      ]
     },
     "execution_count": 33,
     "metadata": {},
     "output_type": "execute_result"
    }
   ],
   "source": [
    "chat(prompt2)"
   ]
  },
  {
   "cell_type": "code",
   "execution_count": 35,
   "id": "62388f1b-7022-44d6-80f8-6607adc493b9",
   "metadata": {},
   "outputs": [],
   "source": [
    "from langchain.output_parsers import ResponseSchema\n",
    "from langchain.output_parsers import StructuredOutputParser\n",
    "gift_schema = ResponseSchema(name=\"gift\",\n",
    "                             description=\"Was the item purchased\\\n",
    "                             as a gift for someone else? \\\n",
    "                             Answer True if yes,\\\n",
    "                             False if not or unknown.\")\n",
    "delivery_days_schema = ResponseSchema(name=\"delivery_days\",\n",
    "                                      description=\"How many days\\\n",
    "                                      did it take for the product\\\n",
    "                                      to arrive? If this \\\n",
    "                                      information is not found,\\\n",
    "                                      output -1.\")\n",
    "price_value_schema = ResponseSchema(name=\"price_value\",\n",
    "                                    description=\"Extract any\\\n",
    "                                    sentences about the value or \\\n",
    "                                    price, and output them as a \\\n",
    "                                    comma separated Python list.\")\n",
    "\n",
    "response_schemas = [gift_schema, \n",
    "                    delivery_days_schema,\n",
    "                    price_value_schema]"
   ]
  },
  {
   "cell_type": "code",
   "execution_count": 44,
   "id": "aed615c1-7333-4e76-85f0-ac1a9f6dc9ad",
   "metadata": {},
   "outputs": [],
   "source": [
    "output_parser = StructuredOutputParser.from_response_schemas(response_schemas)"
   ]
  },
  {
   "cell_type": "code",
   "execution_count": 56,
   "id": "304325df-786c-4f48-b04c-f580c8659f5f",
   "metadata": {},
   "outputs": [
    {
     "name": "stdout",
     "output_type": "stream",
     "text": [
      "The output should be a markdown code snippet formatted in the following schema, including the leading and trailing \"```json\" and \"```\":\n",
      "\n",
      "```json\n",
      "{\n",
      "\t\"gift\": string  // Was the item purchased                             as a gift for someone else?                              Answer True if yes,                             False if not or unknown.\n",
      "\t\"delivery_days\": string  // How many days                                      did it take for the product                                      to arrive? If this                                       information is not found,                                      output -1.\n",
      "\t\"price_value\": string  // Extract any                                    sentences about the value or                                     price, and output them as a                                     comma separated Python list.\n",
      "}\n",
      "```\n"
     ]
    }
   ],
   "source": [
    "format_instructions = output_parser.get_format_instructions()\n",
    "print(format_instructions)"
   ]
  },
  {
   "cell_type": "code",
   "execution_count": 67,
   "id": "14d3d5a3-794c-4829-8dcd-f08a1913e581",
   "metadata": {},
   "outputs": [],
   "source": [
    "review_template_2 = \"\"\"\\\n",
    "For the following text, extract the following information:\n",
    "\n",
    "gift: Was the item purchased as a gift for someone else? \\\n",
    "Answer True if yes, False if not or unknown.\n",
    "\n",
    "delivery_days: How many days did it take for the product\\\n",
    "to arrive? If this information is not found, output -1.\n",
    "\n",
    "price_value: Extract any sentences about the value or price,\\\n",
    "and output them as a comma separated Python list.\n",
    "\n",
    "text: {text}\n",
    "\n",
    "{format_instructions}\n",
    "\"\"\"\n",
    "\n",
    "prompt = ChatPromptTemplate.from_template(template=review_template_2)\n",
    "\n",
    "messages = prompt.format_messages(text=customer_review, \n",
    "                                format_instructions=format_instructions)"
   ]
  },
  {
   "cell_type": "code",
   "execution_count": 68,
   "id": "42940c0b-cd3b-4d63-8d18-e3855b130e8d",
   "metadata": {},
   "outputs": [
    {
     "data": {
      "text/plain": [
       "'For the following text, extract the following information:\\n\\ngift: Was the item purchased as a gift for someone else? Answer True if yes, False if not or unknown.\\n\\ndelivery_days: How many days did it take for the productto arrive? If this information is not found, output -1.\\n\\nprice_value: Extract any sentences about the value or price,and output them as a comma separated Python list.\\n\\ntext: This leaf blower is pretty amazing.  It has four settings:candle blower, gentle breeze, windy city, and tornado. It arrived in two days, just in time for my wife\\'s anniversary present. I think my wife liked it so much she was speechless. So far I\\'ve been the only one using it, and I\\'ve been using it every other morning to clear the leaves on our lawn. It\\'s slightly more expensive than the other leaf blowers out there, but I think it\\'s worth it for the extra features.\\n\\n\\nThe output should be a markdown code snippet formatted in the following schema, including the leading and trailing \"```json\" and \"```\":\\n\\n```json\\n{\\n\\t\"gift\": string  // Was the item purchased                             as a gift for someone else?                              Answer True if yes,                             False if not or unknown.\\n\\t\"delivery_days\": string  // How many days                                      did it take for the product                                      to arrive? If this                                       information is not found,                                      output -1.\\n\\t\"price_value\": string  // Extract any                                    sentences about the value or                                     price, and output them as a                                     comma separated Python list.\\n}\\n```\\n'"
      ]
     },
     "execution_count": 68,
     "metadata": {},
     "output_type": "execute_result"
    }
   ],
   "source": [
    "messages[0].content"
   ]
  },
  {
   "cell_type": "code",
   "execution_count": 69,
   "id": "3666c463-8b80-4909-9904-f16dd23e94cf",
   "metadata": {},
   "outputs": [],
   "source": [
    "response = chat(messages)"
   ]
  },
  {
   "cell_type": "code",
   "execution_count": 70,
   "id": "83be92ec-003c-4e60-960b-e37ba3504ec7",
   "metadata": {},
   "outputs": [
    {
     "data": {
      "text/plain": [
       "'```json\\n{\\n\\t\"gift\": true,\\n\\t\"delivery_days\": 2,\\n\\t\"price_value\": [\"It\\'s slightly more expensive than the other leaf blowers out there, but I think it\\'s worth it for the extra features.\"]\\n}\\n```'"
      ]
     },
     "execution_count": 70,
     "metadata": {},
     "output_type": "execute_result"
    }
   ],
   "source": [
    "response.content"
   ]
  },
  {
   "cell_type": "code",
   "execution_count": 71,
   "id": "c5050785-8350-4de4-bec0-06a817911dcb",
   "metadata": {},
   "outputs": [],
   "source": [
    "parsed_response = output_parser.parse(response.content)"
   ]
  },
  {
   "cell_type": "code",
   "execution_count": 72,
   "id": "5127e454-5daa-4590-a477-78048adc233a",
   "metadata": {},
   "outputs": [
    {
     "data": {
      "text/plain": [
       "{'gift': True,\n",
       " 'delivery_days': 2,\n",
       " 'price_value': [\"It's slightly more expensive than the other leaf blowers out there, but I think it's worth it for the extra features.\"]}"
      ]
     },
     "execution_count": 72,
     "metadata": {},
     "output_type": "execute_result"
    }
   ],
   "source": [
    "parsed_response"
   ]
  },
  {
   "cell_type": "code",
   "execution_count": 73,
   "id": "e59ab1f6-6b4f-4f12-ae4c-12359141278f",
   "metadata": {},
   "outputs": [
    {
     "name": "stdout",
     "output_type": "stream",
     "text": [
      "True\n"
     ]
    }
   ],
   "source": [
    "print(parsed_response['gift'])"
   ]
  },
  {
   "cell_type": "code",
   "execution_count": null,
   "id": "d3052b95-01dd-41e9-8850-0f33b9285439",
   "metadata": {},
   "outputs": [],
   "source": []
  },
  {
   "cell_type": "code",
   "execution_count": null,
   "id": "7996565f-5bbc-479e-a9fb-acaa70abe50b",
   "metadata": {},
   "outputs": [],
   "source": []
  }
 ],
 "metadata": {
  "kernelspec": {
   "display_name": "Python 3 (ipykernel)",
   "language": "python",
   "name": "python3"
  },
  "language_info": {
   "codemirror_mode": {
    "name": "ipython",
    "version": 3
   },
   "file_extension": ".py",
   "mimetype": "text/x-python",
   "name": "python",
   "nbconvert_exporter": "python",
   "pygments_lexer": "ipython3",
   "version": "3.10.14"
  }
 },
 "nbformat": 4,
 "nbformat_minor": 5
}
